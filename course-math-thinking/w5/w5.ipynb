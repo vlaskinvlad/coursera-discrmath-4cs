{
 "cells": [
  {
   "cell_type": "markdown",
   "metadata": {},
   "source": [
    "Given integers from 1 to 9\n",
    "Put the signs to get te right sum"
   ]
  },
  {
   "cell_type": "code",
   "execution_count": 21,
   "metadata": {},
   "outputs": [],
   "source": [
    "def get_sum(s):\n",
    "    if s % 2 == 0:\n",
    "        return None    \n",
    "    current_sum = 0\n",
    "    res = []\n",
    "    for i in range(9, 0, -1):\n",
    "        if current_sum < s:\n",
    "            current_sum += i\n",
    "            res.append(i)\n",
    "        else: \n",
    "            current_sum -= i\n",
    "            res.append(-i)\n",
    "            \n",
    "    return res, sum(res)"
   ]
  },
  {
   "cell_type": "code",
   "execution_count": 27,
   "metadata": {},
   "outputs": [
    {
     "data": {
      "text/plain": [
       "([9, 8, -7, 6, -5, 4, -3, 2, -1], 13)"
      ]
     },
     "execution_count": 27,
     "metadata": {},
     "output_type": "execute_result"
    }
   ],
   "source": [
    "get_sum(13)"
   ]
  }
 ],
 "metadata": {
  "kernelspec": {
   "display_name": "Python 3",
   "language": "python",
   "name": "python3"
  },
  "language_info": {
   "codemirror_mode": {
    "name": "ipython",
    "version": 3
   },
   "file_extension": ".py",
   "mimetype": "text/x-python",
   "name": "python",
   "nbconvert_exporter": "python",
   "pygments_lexer": "ipython3",
   "version": "3.6.6"
  }
 },
 "nbformat": 4,
 "nbformat_minor": 2
}
