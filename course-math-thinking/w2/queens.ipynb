{
 "cells": [
  {
   "cell_type": "code",
   "execution_count": 1,
   "metadata": {},
   "outputs": [],
   "source": [
    "import itertools as it"
   ]
  },
  {
   "cell_type": "markdown",
   "metadata": {},
   "source": [
    "### Brute force solution"
   ]
  },
  {
   "cell_type": "code",
   "execution_count": 2,
   "metadata": {},
   "outputs": [],
   "source": [
    "def check_permutation(perm):\n",
    "    for i1, i2 in it.permutations(range(len(perm)), 2):\n",
    "        if abs(i1 - i2) == abs(perm[i1] - perm[i2]): # on the same diagonal\n",
    "            return False\n",
    "    return True"
   ]
  },
  {
   "cell_type": "code",
   "execution_count": 3,
   "metadata": {},
   "outputs": [
    {
     "name": "stdout",
     "output_type": "stream",
     "text": [
      "0->1\n",
      "1->3\n",
      "2->0\n",
      "3->2\n",
      "CPU times: user 0 ns, sys: 0 ns, total: 0 ns\n",
      "Wall time: 719 µs\n"
     ]
    }
   ],
   "source": [
    "%%time\n",
    "n = 4\n",
    "res = None\n",
    "for i in it.permutations(range(n)):\n",
    "    if check_permutation(i):\n",
    "        res = i\n",
    "        break\n",
    "\n",
    "for i in range(len(res)):\n",
    "    print(\"%d->%d\" % (i, res[i]))"
   ]
  },
  {
   "cell_type": "markdown",
   "metadata": {},
   "source": [
    "### Back Track solution"
   ]
  },
  {
   "cell_type": "code",
   "execution_count": 13,
   "metadata": {},
   "outputs": [
    {
     "name": "stdout",
     "output_type": "stream",
     "text": [
      "14200\n",
      "CPU times: user 6.74 s, sys: 0 ns, total: 6.74 s\n",
      "Wall time: 6.74 s\n"
     ]
    }
   ],
   "source": [
    "%%time\n",
    "def can_be_extended(perm):\n",
    "    i = len(perm) - 1 \n",
    "    for j in range(i):\n",
    "        if i - j == abs(perm[i] - perm[j]): # sits on one diagonal\n",
    "            return False\n",
    "    return True\n",
    "\n",
    "def bt(perm, n, s):\n",
    "    if len(perm) == n:        \n",
    "        return 1 # we found 1 solution\n",
    "    \n",
    "    c = 0\n",
    "    \n",
    "    for k in range(n):        \n",
    "        if k not in s:\n",
    "            perm.append(k)            \n",
    "            if can_be_extended(perm):\n",
    "                c += bt(perm, n, set(perm))                \n",
    "            perm.pop() # we remove current element from that brunch    \n",
    "    return c\n",
    "    \n",
    "print(bt([], 12, set()))"
   ]
  },
  {
   "cell_type": "markdown",
   "metadata": {},
   "source": [
    "### Diagonal counting"
   ]
  },
  {
   "cell_type": "markdown",
   "metadata": {},
   "source": [
    "None = undefined\n",
    "0  = /\n",
    "1 =  \\"
   ]
  },
  {
   "cell_type": "code",
   "execution_count": 173,
   "metadata": {},
   "outputs": [],
   "source": [
    "def get(s, i, j, n):\n",
    "    k = n*i + j\n",
    "    return s[k] if k in range(len(s)) else None        \n",
    "\n",
    "def ps(s, n):  \n",
    "    if len(s) < n*n:\n",
    "        s.extend([None]*(n*n - len(s)))        \n",
    "    for i in range(n):        \n",
    "        print(\"\".join([ \"/ \" if s[i*n + j] == 0 else \"\\ \" if s[i*n + j] == 1 else \"  \"  for j in range(n)]))        \n",
    "    print(\"---\"*10)"
   ]
  },
  {
   "cell_type": "code",
   "execution_count": 216,
   "metadata": {},
   "outputs": [],
   "source": [
    "import random\n",
    "\n",
    "def is_kconflict(s, k, n):\n",
    "    i = k //n\n",
    "    j = k % n\n",
    "    a = get(s, i, j, n)\n",
    "    #print(\"i,j,a: %d, %d: %s\" % (i, j, a))\n",
    "    if a is None:\n",
    "        return False\n",
    "    \n",
    "    if j > 0:\n",
    "        b = get(s, i, j-1, n)\n",
    "        if a != b and b is not None:            \n",
    "            return True     \n",
    "    \n",
    "    if i > 0:\n",
    "        b = get(s, i-1, j, n)\n",
    "        if a != b and b is not None:\n",
    "            return True\n",
    "        if j > 0:\n",
    "            c = get(s, i-1, j-1, n)\n",
    "            if a == 1 and c == 1 and c is not None:\n",
    "                return True\n",
    "        if j < n - 1:\n",
    "            c = get(s, i-1, j+1, n)\n",
    "            if a == 0 and c ==0 and c is not None:\n",
    "                return True\n",
    "    return False\n",
    "\n",
    "def is_conflict(s, n):\n",
    "    #for z in range(len(s)):\n",
    "    z = len(s) - 1\n",
    "    if is_kconflict(s, z, n):\n",
    "        return True\n",
    "    return False\n",
    "\n",
    "def srch(s, n, goal):       \n",
    "    if len(s) == n*n:\n",
    "        ssum = sum([1 for z in s if z is not None])\n",
    "        if ssum == goal:\n",
    "            print(\"sum %s, goal: %s\" % (ssum, goal))\n",
    "            ps(s, n)\n",
    "            return 1\n",
    "        return 0\n",
    "    c = 0\n",
    "    o = [1, 0, None]\n",
    "    random.shuffle(o)\n",
    "    for z in o:\n",
    "        s.append(z)\n",
    "        if not is_conflict(s, n):\n",
    "            c = srch(s, n, goal)\n",
    "            if c == 1:\n",
    "                break\n",
    "        s.pop()     \n",
    "    return c"
   ]
  },
  {
   "cell_type": "code",
   "execution_count": 228,
   "metadata": {},
   "outputs": [
    {
     "name": "stdout",
     "output_type": "stream",
     "text": [
      "sum 16, goal: 16\n",
      "/ / /   \\ \n",
      "    /   \\ \n",
      "\\ \\   \\ \\ \n",
      "\\   /     \n",
      "\\   / / / \n",
      "------------------------------\n",
      "CPU times: user 7min 45s, sys: 20 ms, total: 7min 45s\n",
      "Wall time: 7min 45s\n"
     ]
    }
   ],
   "source": [
    "%%time\n",
    "t = 5\n",
    "srch([], t, goal=16) "
   ]
  },
  {
   "cell_type": "markdown",
   "metadata": {},
   "source": [
    "### Coin Change 5, 7"
   ]
  },
  {
   "cell_type": "code",
   "execution_count": 254,
   "metadata": {},
   "outputs": [],
   "source": [
    "def change(amount):\n",
    "    if amount < 24:\n",
    "        return None\n",
    "    if amount == 24:\n",
    "        return [5, 5, 7, 7]\n",
    "    if amount == 25:\n",
    "        return [5]*5\n",
    "    if amount == 26:\n",
    "        return [7,7,7,5]\n",
    "    if amount == 27:\n",
    "        return [5,5,5,5,7]\n",
    "    if amount == 28:\n",
    "        return [7,7,7,7]        \n",
    "    a = change(amount-5)\n",
    "    a.append(5)\n",
    "    return a\n"
   ]
  },
  {
   "cell_type": "code",
   "execution_count": 258,
   "metadata": {},
   "outputs": [
    {
     "name": "stdout",
     "output_type": "stream",
     "text": [
      "28\n"
     ]
    }
   ],
   "source": [
    "c = 0\n",
    "for i in range(100):\n",
    "    if payout(i) is not None:\n",
    "        c += 1\n",
    "        if c == 5:\n",
    "            print(i)\n",
    "    else:\n",
    "        c = 0 "
   ]
  },
  {
   "cell_type": "markdown",
   "metadata": {},
   "source": [
    "### Hanoi Towers Quiz"
   ]
  },
  {
   "cell_type": "code",
   "execution_count": 282,
   "metadata": {},
   "outputs": [
    {
     "data": {
      "text/plain": [
       "63"
      ]
     },
     "execution_count": 282,
     "metadata": {},
     "output_type": "execute_result"
    }
   ],
   "source": [
    "a = [6, 5, 4, 3, 2, 1 ]\n",
    "b = []\n",
    "c = []\n",
    "z = 0\n",
    "def hanoi_towers(n, source, aux, dest):\n",
    "    global z\n",
    "    if n > 0:        \n",
    "        hanoi_towers(n-1, source, dest, aux)        \n",
    "        dest.append(source.pop())                \n",
    "        z += 1        \n",
    "        hanoi_towers(n-1, aux, source, dest)\n",
    "        \n",
    "\n",
    "hanoi_towers(6, a, b, c)\n",
    "z"
   ]
  }
 ],
 "metadata": {
  "kernelspec": {
   "display_name": "Python 3",
   "language": "python",
   "name": "python3"
  },
  "language_info": {
   "codemirror_mode": {
    "name": "ipython",
    "version": 3
   },
   "file_extension": ".py",
   "mimetype": "text/x-python",
   "name": "python",
   "nbconvert_exporter": "python",
   "pygments_lexer": "ipython3",
   "version": "3.6.6"
  }
 },
 "nbformat": 4,
 "nbformat_minor": 2
}
