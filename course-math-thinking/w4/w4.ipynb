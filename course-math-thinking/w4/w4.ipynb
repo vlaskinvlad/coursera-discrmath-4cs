{
 "cells": [
  {
   "cell_type": "markdown",
   "metadata": {},
   "source": [
    "Conjecture:\n",
    "\n",
    "For any $n > 1$ the number $n^2 + n + 41$ is prime"
   ]
  },
  {
   "cell_type": "code",
   "execution_count": 11,
   "metadata": {},
   "outputs": [],
   "source": [
    "def is_prime(k):    \n",
    "    if k <= 1:\n",
    "        return False\n",
    "    if k <= 3: \n",
    "        return True\n",
    "    if k % 2 == 0 or k % 3 == 0:\n",
    "        return False\n",
    "    i = 5\n",
    "    while i*i <= k:\n",
    "        if k % i == 0 or k % (i+2) == 0:\n",
    "            return False\n",
    "        i = i + 6\n",
    "    return True"
   ]
  },
  {
   "cell_type": "code",
   "execution_count": 23,
   "metadata": {},
   "outputs": [
    {
     "name": "stdout",
     "output_type": "stream",
     "text": [
      "40\n",
      "1681\n"
     ]
    }
   ],
   "source": [
    "for n in range(1, 1000):\n",
    "    k = n*n + n + 41\n",
    "    if not is_prime(k):\n",
    "        print(n)\n",
    "        print(k)\n",
    "        break\n",
    "        "
   ]
  },
  {
   "cell_type": "markdown",
   "metadata": {},
   "source": [
    "q1.\n",
    "\n",
    "every recursive ordinal is constructive \n",
    "\n",
    "$\\neg$ (every recursive ordinal is constructive ) $=$ $\\exists$ recursive ordinal that is not constructive"
   ]
  },
  {
   "cell_type": "markdown",
   "metadata": {},
   "source": [
    "Constructive, Recursive\n",
    "\n",
    "1, 1\n",
    "\n",
    "1, 1\n",
    "\n",
    "0, 0\n",
    "\n",
    "0, 0\n"
   ]
  },
  {
   "cell_type": "markdown",
   "metadata": {},
   "source": [
    "$\\forall$ ordinals, if ordinal is recursive then ordinal is constructive\n",
    "\n",
    "P = ordinal is recursive\n",
    "Q = ordinal is constructive\n",
    "\n",
    "1. $\\forall$ ordinal $\\neg P \\lor Q$\n",
    "\n",
    "2. $\\forall$ ordinal $\\neg Q \\lor P$\n",
    "\n",
    "3. $\\forall$ ordinal $P \\lor \\neg Q$\n",
    "\n",
    "4. $\\forall$ ordinal $Q \\lor \\neg P$\n",
    "\n",
    "5. $\\exists$ ordinal: $P \\land Q$\n",
    "\n",
    "6. $\\exists$ ordinal: $Q \\land P$\n",
    "\n",
    "7. $\\exists$ ordinal: $\\neg Q \\land \\neg P$"
   ]
  },
  {
   "cell_type": "markdown",
   "metadata": {},
   "source": [
    "q2.\n",
    "\n",
    "1. All recursive ordinals are constructive\n",
    "\n",
    "2. All constructive ordinals are recursive\n",
    "\n",
    "3. All non-recursive ordinals are non-constructive\n",
    "\n",
    "4. All non-constructive ordinals are non-recursive\n",
    "\n",
    "5. Some constructive ordinals are recursive\n",
    "\n",
    "6. Some recursive ordinals are constructive\n",
    "\n",
    "7. Some non-recursive ordinals are non-constructive\n",
    "\n",
    "--- \n",
    "\n",
    "-. $\\forall$ recursive ordinals are constructive\n",
    "\n",
    "-. $\\exists$ recursive ordinals which are constructive\n",
    "\n",
    "-. $\\exists$ constructive ordinals which are recursive"
   ]
  },
  {
   "cell_type": "markdown",
   "metadata": {},
   "source": [
    "q4\n",
    "\n",
    "Alice claims that every student in the group knows either French or German, or both. Bob wants to say that Alice’s statement is wrong (no more, no less)"
   ]
  },
  {
   "cell_type": "markdown",
   "metadata": {},
   "source": [
    "P - french\n",
    "Q - german\n",
    "\n",
    "$\\forall$ s: $P \\lor Q \\lor (P \\land Q)$\n",
    "\n",
    "$\\neg : \\exists$ s \n",
    "\n",
    "$\\neg (P \\lor Q \\lor (P \\land Q)) = \\neg(P \\lor Q) \\land \\neg(P \\land Q) =$\n",
    "\n",
    "$\\neg(P \\lor Q)  = \\neg P \\land \\neg Q $\n",
    "\n",
    "$\\neg(P \\land Q) = \\neg P \\lor \\neg Q $\n",
    "\n",
    "$=  \\neg P \\land \\neg Q \\land (\\neg P \\lor \\neg Q) = \\neg P \\land \\neg Q \\land \\neg P \\lor \\neg P \\land \\neg Q \\land \\neg Q   = \\neg P \\land \\neg Q $\n",
    "\n",
    "\n",
    "There is a student who does not know French and does not know German"
   ]
  },
  {
   "cell_type": "markdown",
   "metadata": {},
   "source": [
    "q5\n",
    "\n",
    "x>10,x>20,x>30,x>40,x>50\n",
    "\n",
    "3 - true 2 - false\n",
    "\n",
    "P: x is a multiple of 2 (x/2 is integer);\n",
    "\n",
    "Q: x is a multiple of 3;\n",
    "\n",
    "R: x is a multiple of 6.\n",
    "\n",
    "$\\forall x \\in N$ if $P \\land Q$ then R \n",
    "\n",
    "$\\neg(P \\land Q) \\lor R  = \\neg P \\lor \\neg Q \\lor R$\n",
    "\n",
    "\n"
   ]
  },
  {
   "cell_type": "markdown",
   "metadata": {},
   "source": [
    "q6\n",
    "\n",
    "every region there is a town where all inhabitants are happy.\n",
    "\n",
    "$\\forall$ region there $\\exists$ town that  all inhabitants are happy\n",
    "\n",
    "$\\neg$ of that is:\n",
    "\n",
    "$\\exists$ region where $\\forall$ towns all inhabitants are NOT happy"
   ]
  }
 ],
 "metadata": {
  "kernelspec": {
   "display_name": "Python 3",
   "language": "python",
   "name": "python3"
  },
  "language_info": {
   "codemirror_mode": {
    "name": "ipython",
    "version": 3
   },
   "file_extension": ".py",
   "mimetype": "text/x-python",
   "name": "python",
   "nbconvert_exporter": "python",
   "pygments_lexer": "ipython3",
   "version": "3.6.6"
  }
 },
 "nbformat": 4,
 "nbformat_minor": 2
}
