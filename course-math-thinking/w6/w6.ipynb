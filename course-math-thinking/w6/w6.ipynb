{
 "cells": [
  {
   "cell_type": "code",
   "execution_count": 28,
   "metadata": {},
   "outputs": [
    {
     "name": "stdout",
     "output_type": "stream",
     "text": [
      "[(1, 0), (3, 1), (5, 4)]\n",
      "['A', 'M', 'R', 'I', 'N', 'E']\n",
      "['A', 'I', 'R', 'M', 'N', 'E']\n",
      "['A', 'I', 'R', 'M', 'E', 'N']\n"
     ]
    },
    {
     "data": {
      "text/plain": [
       "'AIRMEN'"
      ]
     },
     "execution_count": 28,
     "metadata": {},
     "output_type": "execute_result"
    }
   ],
   "source": [
    "def apply_t(ts, s):\n",
    "    cs = [c for c in s]\n",
    "    for t in ts:\n",
    "        cs[t[0]], cs[t[1]] = cs[t[1]], cs[t[0]]\n",
    "        print(cs)\n",
    "    return \"\".join(cs)\n",
    "\n",
    "def brute_permutation(origin, target):\n",
    "    res = []\n",
    "    oc = [c for c in origin]\n",
    "    for i, c in enumerate(target):\n",
    "        j = oc.index(c)\n",
    "        res.append((j, i))\n",
    "        oc[i], oc[j] = oc[j], oc[i]\n",
    "    return list(filter(lambda x: x[0]!=x[1], res))\n",
    "\n",
    "r = brute_permutation('MARINE', 'AIRMEN')\n",
    "print(r)\n",
    "t = apply_t(r, 'MARINE')\n",
    "t"
   ]
  },
  {
   "cell_type": "code",
   "execution_count": 31,
   "metadata": {},
   "outputs": [
    {
     "name": "stdout",
     "output_type": "stream",
     "text": [
      "['A', 'M', 'R', 'I', 'N', 'E']\n",
      "['A', 'M', 'I', 'R', 'N', 'E']\n",
      "['A', 'I', 'M', 'R', 'N', 'E']\n",
      "['A', 'I', 'R', 'M', 'N', 'E']\n",
      "['A', 'I', 'R', 'M', 'E', 'N']\n"
     ]
    },
    {
     "data": {
      "text/plain": [
       "'AIRMEN'"
      ]
     },
     "execution_count": 31,
     "metadata": {},
     "output_type": "execute_result"
    }
   ],
   "source": [
    "apply_t([(1, 0), (3, 2), (2, 1), (2, 3), (5, 4)], 'MARINE')"
   ]
  },
  {
   "cell_type": "markdown",
   "metadata": {},
   "source": [
    "Even / Odd permutation\n",
    " "
   ]
  },
  {
   "cell_type": "code",
   "execution_count": 106,
   "metadata": {},
   "outputs": [],
   "source": [
    "def is_even(a):\n",
    "    # assuming a[i] \\in [1 .. len(a)] inclusive\n",
    "    n = len(a)\n",
    "    # 1. looking for a cycle\n",
    "    # 2. once all cycles found count the parity of a cycle\n",
    "    # if cycle has length K, it's parity is (K - 1)\n",
    "    # permutation is even if its a sum of it's cycles are even    \n",
    "    start = 0\n",
    "    parity = 0 \n",
    "    while start < n:        \n",
    "        cycle_parity = 0        \n",
    "        i = start       \n",
    "        i_last = start\n",
    "        i = a[start]\n",
    "        while (i != start):\n",
    "            i_last = i\n",
    "            i = a[i]\n",
    "            cycle_parity += 1              \n",
    "            if i_last is not None:\n",
    "                a[i_last] += n                     \n",
    "        a[i_last] += n        \n",
    "        parity += cycle_parity\n",
    "        start += 1         \n",
    "        while (start < n and a[start] >= n ):\n",
    "            start += 1                    \n",
    "    return parity % 2 == 0\n",
    "\n",
    "assert is_even([0,3,2,4,5,6,7,1,9,8] ) == True"
   ]
  },
  {
   "cell_type": "code",
   "execution_count": 108,
   "metadata": {},
   "outputs": [],
   "source": [
    "assert is_even([0,3,2,4,5,6,7,1,9,8] ) == True\n",
    "assert is_even([2,3,4,1,0]) == False\n",
    "assert is_even([1, 4, 0, 5, 3, 7, 6, 2]) == True\n",
    "assert is_even([10, 2, 6, 9, 4, 5, 7, 0, 3, 11, 8, 1]) == False"
   ]
  },
  {
   "cell_type": "code",
   "execution_count": 110,
   "metadata": {},
   "outputs": [
    {
     "data": {
      "text/plain": [
       "False"
      ]
     },
     "execution_count": 110,
     "metadata": {},
     "output_type": "execute_result"
    }
   ],
   "source": [
    "is_even([1, 2, 3, 4, 5, 6, 7, 8, 9, 10, 11, 12, 13, 14, 15, 0])"
   ]
  },
  {
   "cell_type": "code",
   "execution_count": 88,
   "metadata": {},
   "outputs": [
    {
     "data": {
      "text/plain": [
       "True"
      ]
     },
     "execution_count": 88,
     "metadata": {},
     "output_type": "execute_result"
    }
   ],
   "source": [
    "bool(-1)"
   ]
  }
 ],
 "metadata": {
  "kernelspec": {
   "display_name": "Python 3",
   "language": "python",
   "name": "python3"
  },
  "language_info": {
   "codemirror_mode": {
    "name": "ipython",
    "version": 3
   },
   "file_extension": ".py",
   "mimetype": "text/x-python",
   "name": "python",
   "nbconvert_exporter": "python",
   "pygments_lexer": "ipython3",
   "version": "3.6.6"
  }
 },
 "nbformat": 4,
 "nbformat_minor": 2
}
